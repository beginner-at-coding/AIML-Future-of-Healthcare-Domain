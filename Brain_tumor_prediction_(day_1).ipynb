{
  "nbformat": 4,
  "nbformat_minor": 2,
  "metadata": {
    "colab": {
      "name": "Brain_tumor_prediction_(day_1).ipynb",
      "provenance": [],
      "collapsed_sections": []
    },
    "kernelspec": {
      "name": "python3",
      "display_name": "Python 3.9.7 64-bit (windows store)"
    },
    "language_info": {
      "name": "python",
      "version": "3.9.7",
      "mimetype": "text/x-python",
      "codemirror_mode": {
        "name": "ipython",
        "version": 3
      },
      "pygments_lexer": "ipython3",
      "nbconvert_exporter": "python",
      "file_extension": ".py"
    },
    "accelerator": "GPU",
    "interpreter": {
      "hash": "df06c47b7912d0ce6577aeafd70c311a2ab7030c1cb40c66de2cacb368f97e76"
    }
  },
  "cells": [
    {
      "cell_type": "code",
      "execution_count": 4,
      "source": [
        "# to ignore the warnings \r\n",
        "import warnings\r\n",
        "warnings.filterwarnings(\"ignore\")"
      ],
      "outputs": [],
      "metadata": {
        "id": "p1WaCtBHBJP-"
      }
    },
    {
      "cell_type": "code",
      "execution_count": null,
      "source": [
        "# # get the data from \r\n",
        "\r\n",
        "# !wget https://www.dropbox.com/s/jztol5j7hvm2w96/brain_tumor%20data%20set.zip\r\n",
        "\r\n",
        "# # unzip the data\r\n",
        "# !unzip \"/content/brain_tumor data set.zip\"\r\n",
        "# !rm \"/content/brain_tumor data set.zip\""
      ],
      "outputs": [],
      "metadata": {
        "id": "kEUskv1fBIxI",
        "colab": {
          "base_uri": "https://localhost:8080/"
        },
        "outputId": "70577655-1922-45f2-907d-0bc315f848f1"
      }
    },
    {
      "cell_type": "markdown",
      "source": [
        "# New Section"
      ],
      "metadata": {
        "id": "1s7_AZl6A7UU"
      }
    },
    {
      "cell_type": "code",
      "execution_count": 5,
      "source": [
        "import numpy as np\r\n",
        "import pandas as pd\r\n",
        "import matplotlib.pyplot as plt\r\n",
        "import glob\r\n",
        "import os \r\n",
        "import shutil\r\n",
        "import math\r\n",
        "import imutils\r\n",
        "import cv2"
      ],
      "outputs": [],
      "metadata": {
        "id": "avs4zYYFljw0"
      }
    },
    {
      "cell_type": "code",
      "execution_count": 6,
      "source": [
        "# count the number of images in the respective classes \r\n",
        "\r\n",
        "ROOT_DIR = \"C:/Users/shukl/OneDrive/Python/Projects/Brain Tumor Data Set\"\r\n",
        "\r\n",
        "num_of_images = {}\r\n",
        "\r\n",
        "for dir in os.listdir(ROOT_DIR):\r\n",
        "  num_of_images[dir] = len(os.listdir(os.path.join(ROOT_DIR, dir)))\r\n",
        "\r\n",
        "num_of_images"
      ],
      "outputs": [
        {
          "output_type": "execute_result",
          "data": {
            "text/plain": [
              "{'Brain Tumor': 17, 'Healthey': 16}"
            ]
          },
          "metadata": {},
          "execution_count": 6
        }
      ],
      "metadata": {
        "colab": {
          "base_uri": "https://localhost:8080/"
        },
        "id": "eo_YQh8VlPUM",
        "outputId": "1a544239-c318-42a9-c634-b219a43b007c"
      }
    },
    {
      "cell_type": "markdown",
      "source": [
        "###we will split our data such that we have \n",
        "    * 70% for Train Data \n",
        "    * 15% for Validation \n",
        "    * 15% for Testing "
      ],
      "metadata": {
        "id": "26bwrhRPul_y"
      }
    },
    {
      "cell_type": "code",
      "execution_count": 7,
      "source": [
        "# we create a training folder \r\n",
        "\r\n",
        "if not os.path.exists(\"./train\"):\r\n",
        "  os.mkdir(\"./train\")\r\n",
        "\r\n",
        "  for dir in os.listdir(ROOT_DIR):\r\n",
        "    os.makedirs(\"./train/\"+dir)\r\n",
        "    for img in np.random.choice(a=os.listdir(os.path.join(ROOT_DIR, dir) ) , \r\n",
        "                                size= (math.floor(70/100*num_of_images[dir])-5) , replace=False ):\r\n",
        "      \r\n",
        "      O = os.path.join(ROOT_DIR,dir,img)\r\n",
        "      D = os.path.join('./train', dir)\r\n",
        "      shutil.copy(O,D)\r\n",
        "      os.remove(O)\r\n",
        "else:\r\n",
        "  print(\"Train Folder exist\")"
      ],
      "outputs": [
        {
          "output_type": "stream",
          "name": "stdout",
          "text": [
            "Train Folder exist\n"
          ]
        }
      ],
      "metadata": {
        "id": "udVaH7ZEmKE-"
      }
    },
    {
      "cell_type": "code",
      "execution_count": 8,
      "source": [
        "# we create a Validation folder \r\n",
        "\r\n",
        "if not os.path.exists(\"./val\"):\r\n",
        "  os.mkdir(\"./val\")\r\n",
        "\r\n",
        "  for dir in os.listdir(ROOT_DIR):\r\n",
        "    os.makedirs(\"./val/\"+dir)\r\n",
        "    for img in np.random.choice(a=os.listdir(os.path.join(ROOT_DIR, dir) ) , \r\n",
        "                                size= (math.floor(15/100*num_of_images[dir])-5) , replace=False ):\r\n",
        "      \r\n",
        "      O = os.path.join(ROOT_DIR,dir,img)\r\n",
        "      D = os.path.join('./val', dir)\r\n",
        "      shutil.copy(O,D)\r\n",
        "      os.remove(O)\r\n",
        "else:\r\n",
        "  print(\"Validation Folder Folder exist\")"
      ],
      "outputs": [
        {
          "output_type": "stream",
          "name": "stdout",
          "text": [
            "Validation Folder Folder exist\n"
          ]
        }
      ],
      "metadata": {
        "id": "_eQ3H_r7yc6a"
      }
    },
    {
      "cell_type": "code",
      "execution_count": 9,
      "source": [
        "# we create a test folder \r\n",
        "\r\n",
        "if not os.path.exists(\"./test\"):\r\n",
        "  os.mkdir(\"./test\")\r\n",
        "\r\n",
        "  for dir in os.listdir(ROOT_DIR):\r\n",
        "    os.makedirs(\"./test/\"+dir)\r\n",
        "    for img in np.random.choice(a=os.listdir(os.path.join(ROOT_DIR, dir) ) , \r\n",
        "                                size= (math.floor(15/100*num_of_images[dir])-5) , replace=False ):\r\n",
        "      \r\n",
        "      O = os.path.join(ROOT_DIR,dir,img)\r\n",
        "      D = os.path.join('./test', dir)\r\n",
        "      shutil.copy(O,D)\r\n",
        "      os.remove(O)\r\n",
        "else:\r\n",
        "  print(\"Test Folder exist\")"
      ],
      "outputs": [
        {
          "output_type": "stream",
          "name": "stdout",
          "text": [
            "Test Folder exist\n"
          ]
        }
      ],
      "metadata": {
        "id": "P7l47nEWz_s3"
      }
    },
    {
      "cell_type": "markdown",
      "source": [
        "### Data Split is complete\n",
        "\n",
        "## Creation of Model "
      ],
      "metadata": {
        "id": "p4pjfje91k7D"
      }
    },
    {
      "cell_type": "code",
      "execution_count": 10,
      "source": [
        "import numpy as np\r\n",
        "import matplotlib.pyplot as plt\r\n",
        "from tensorflow.keras.layers import Dense,Conv2D, Flatten, MaxPool2D, Dropout, BatchNormalization, MaxPooling2D, GlobalAvgPool2D\r\n",
        "from tensorflow.keras.models import Sequential\r\n",
        "from tensorflow.keras.preprocessing import image\r\n",
        "from tensorflow import keras"
      ],
      "outputs": [],
      "metadata": {
        "id": "SFgvuo9q1S9t"
      }
    },
    {
      "cell_type": "code",
      "execution_count": 11,
      "source": [
        "# Cnn model \r\n",
        "model = Sequential() \r\n",
        "model.add(Conv2D(filters=16, kernel_size= (3,3), activation= 'relu', input_shape=(224,224,3)) )\r\n",
        "\r\n",
        "model.add(Conv2D(filters=32, kernel_size=(3,3), activation='relu' ))\r\n",
        "model.add(MaxPool2D(pool_size=(2,2)))\r\n",
        "\r\n",
        "\r\n",
        "model.add(Conv2D(filters=64, kernel_size=(3,3), activation='relu' ))\r\n",
        "model.add(MaxPool2D(pool_size=(2,2)))\r\n",
        "\r\n",
        "\r\n",
        "model.add(Conv2D(filters=128, kernel_size=(3,3), activation='relu' ))\r\n",
        "model.add(MaxPool2D(pool_size=(2,2)))\r\n",
        "\r\n",
        "model.add(Dropout(rate=0.25))# Reduce overfit\r\n",
        "\r\n",
        "model.add(Flatten())\r\n",
        "model.add(Dense(units=64, activation='relu'))\r\n",
        "model.add(Dropout(rate=0.25))\r\n",
        "model.add(Dense(units=1, activation='sigmoid'))\r\n",
        " \r\n",
        "model.summary()"
      ],
      "outputs": [
        {
          "output_type": "stream",
          "name": "stdout",
          "text": [
            "Model: \"sequential\"\n",
            "_________________________________________________________________\n",
            "Layer (type)                 Output Shape              Param #   \n",
            "=================================================================\n",
            "conv2d (Conv2D)              (None, 222, 222, 16)      448       \n",
            "_________________________________________________________________\n",
            "conv2d_1 (Conv2D)            (None, 220, 220, 32)      4640      \n",
            "_________________________________________________________________\n",
            "max_pooling2d (MaxPooling2D) (None, 110, 110, 32)      0         \n",
            "_________________________________________________________________\n",
            "conv2d_2 (Conv2D)            (None, 108, 108, 64)      18496     \n",
            "_________________________________________________________________\n",
            "max_pooling2d_1 (MaxPooling2 (None, 54, 54, 64)        0         \n",
            "_________________________________________________________________\n",
            "conv2d_3 (Conv2D)            (None, 52, 52, 128)       73856     \n",
            "_________________________________________________________________\n",
            "max_pooling2d_2 (MaxPooling2 (None, 26, 26, 128)       0         \n",
            "_________________________________________________________________\n",
            "dropout (Dropout)            (None, 26, 26, 128)       0         \n",
            "_________________________________________________________________\n",
            "flatten (Flatten)            (None, 86528)             0         \n",
            "_________________________________________________________________\n",
            "dense (Dense)                (None, 64)                5537856   \n",
            "_________________________________________________________________\n",
            "dropout_1 (Dropout)          (None, 64)                0         \n",
            "_________________________________________________________________\n",
            "dense_1 (Dense)              (None, 1)                 65        \n",
            "=================================================================\n",
            "Total params: 5,635,361\n",
            "Trainable params: 5,635,361\n",
            "Non-trainable params: 0\n",
            "_________________________________________________________________\n"
          ]
        }
      ],
      "metadata": {
        "id": "eCx34xTN_Nic",
        "colab": {
          "base_uri": "https://localhost:8080/"
        },
        "outputId": "b016387a-22d5-4b0b-dd55-7703e030ab85"
      }
    },
    {
      "cell_type": "code",
      "execution_count": 12,
      "source": [
        "keras.utils.plot_model(model)"
      ],
      "outputs": [
        {
          "output_type": "execute_result",
          "data": {
            "image/png": "[encoded data removed]",
            "text/plain": [
              "<IPython.core.display.Image object>"
            ]
          },
          "metadata": {},
          "execution_count": 12
        }
      ],
      "metadata": {
        "id": "D20xZkfm4aQj",
        "colab": {
          "base_uri": "https://localhost:8080/",
          "height": 1000
        },
        "outputId": "7f318c30-6a3e-44f1-cdb0-58f5a6c18ceb"
      }
    },
    {
      "cell_type": "code",
      "execution_count": 13,
      "source": [
        "model.compile(optimizer='adam', loss='binary_crossentropy', metrics=['accuracy']  )"
      ],
      "outputs": [],
      "metadata": {
        "id": "jQTLkfM85THf"
      }
    },
    {
      "cell_type": "markdown",
      "source": [
        "## Preparing our data using data generator "
      ],
      "metadata": {
        "id": "YmaXaPqI5rkl"
      }
    },
    {
      "cell_type": "code",
      "execution_count": 14,
      "source": [
        "#train_datagen = image.ImageDataGenerator(preprocessing_function= , )"
      ],
      "outputs": [],
      "metadata": {
        "id": "V5Ct0i-35kgH"
      }
    },
    {
      "cell_type": "code",
      "execution_count": 15,
      "source": [
        "train_datagen = image.ImageDataGenerator(\r\n",
        "     zoom_range = 0.2, shear_range = 0.2 , rescale = 1./255 , horizontal_flip=True\r\n",
        ")\r\n",
        "\r\n",
        "val_datagen = image.ImageDataGenerator(rescale = 1./255)\r\n",
        "\r\n",
        "test_datagen = image.ImageDataGenerator(rescale = 1./255)"
      ],
      "outputs": [],
      "metadata": {
        "id": "rlOcG5n-6Jmx"
      }
    },
    {
      "cell_type": "code",
      "execution_count": 16,
      "source": [
        "train_data = train_datagen.flow_from_directory(directory= \"C:/Users/shukl/OneDrive/Python/Projects/train\", target_size=(224,224), batch_size=32,\r\n",
        "                                  class_mode = 'binary', \r\n",
        "                                  )"
      ],
      "outputs": [
        {
          "output_type": "stream",
          "name": "stdout",
          "text": [
            "Found 3209 images belonging to 2 classes.\n"
          ]
        }
      ],
      "metadata": {
        "id": "Ze4QLGT-6RfD",
        "colab": {
          "base_uri": "https://localhost:8080/"
        },
        "outputId": "a2879185-2f06-44d2-b207-4ae09d770843"
      }
    },
    {
      "cell_type": "code",
      "execution_count": 17,
      "source": [
        "train_data.class_indices"
      ],
      "outputs": [
        {
          "output_type": "execute_result",
          "data": {
            "text/plain": [
              "{'Brain Tumor': 0, 'Healthey': 1}"
            ]
          },
          "metadata": {},
          "execution_count": 17
        }
      ],
      "metadata": {
        "id": "Dxd6UwmpHEVm",
        "colab": {
          "base_uri": "https://localhost:8080/"
        },
        "outputId": "f8dea098-f975-4b97-ba9f-0f63d14c5d0a"
      }
    },
    {
      "cell_type": "code",
      "execution_count": 18,
      "source": [
        "val_data = val_datagen.flow_from_directory(directory= \"C:/Users/shukl/OneDrive/Python/Projects/val\", target_size=(224,224), batch_size=32,\r\n",
        "                                  class_mode = 'binary'\r\n",
        "                                  )"
      ],
      "outputs": [
        {
          "output_type": "stream",
          "name": "stdout",
          "text": [
            "Found 679 images belonging to 2 classes.\n"
          ]
        }
      ],
      "metadata": {
        "id": "QtdHpvg76czX",
        "colab": {
          "base_uri": "https://localhost:8080/"
        },
        "outputId": "8e27f79a-c3ab-41bb-9499-f8f6ee1ce2b4"
      }
    },
    {
      "cell_type": "code",
      "execution_count": 19,
      "source": [
        "test_data = test_datagen.flow_from_directory(directory= \"C:/Users/shukl/OneDrive/Python/Projects/test\", target_size=(224,224), batch_size=32,\r\n",
        "                                  class_mode = 'binary'\r\n",
        "                                  )"
      ],
      "outputs": [
        {
          "output_type": "stream",
          "name": "stdout",
          "text": [
            "Found 679 images belonging to 2 classes.\n"
          ]
        }
      ],
      "metadata": {
        "id": "E0eGbsVW6oY8",
        "colab": {
          "base_uri": "https://localhost:8080/"
        },
        "outputId": "890e78a6-ff46-4f1f-e917-3d34828a07d1"
      }
    },
    {
      "cell_type": "code",
      "execution_count": 21,
      "source": [
        "## having early stopping and model check point \r\n",
        "from keras.callbacks import ModelCheckpoint, EarlyStopping\r\n",
        "\r\n",
        "# early stopping\r\n",
        "es = EarlyStopping(monitor='val_accuracy', min_delta= 0.01 , patience= 5, verbose= 1, mode='auto')\r\n",
        "\r\n",
        "# model check point\r\n",
        "mc = ModelCheckpoint(filepath=\"best_model.h5\", monitor= 'val_accuracy', verbose= 1, save_best_only= True, mode = 'auto')\r\n",
        "\r\n",
        "# puting call back in a list \r\n",
        "call_back = [es, mc]"
      ],
      "outputs": [],
      "metadata": {
        "id": "TEQqFPto4viO"
      }
    },
    {
      "cell_type": "code",
      "execution_count": 22,
      "source": [
        "hist = model.fit(x=train_data , steps_per_epoch= 8, \r\n",
        "                              epochs= 30 , verbose= 1, \r\n",
        "                              validation_data= val_data , \r\n",
        "                              validation_steps= 16,\r\n",
        "                              callbacks = call_back )"
      ],
      "outputs": [
        {
          "output_type": "stream",
          "name": "stdout",
          "text": [
            "Epoch 1/30\n",
            "8/8 [==============================] - 110s 14s/step - loss: 1.2014 - accuracy: 0.4688 - val_loss: 0.6901 - val_accuracy: 0.5449\n",
            "\n",
            "Epoch 00001: val_accuracy improved from -inf to 0.54492, saving model to best_model.h5\n",
            "Epoch 2/30\n",
            "8/8 [==============================] - 148s 19s/step - loss: 0.6873 - accuracy: 0.5547 - val_loss: 0.6632 - val_accuracy: 0.6035\n",
            "\n",
            "Epoch 00002: val_accuracy improved from 0.54492 to 0.60352, saving model to best_model.h5\n",
            "Epoch 3/30\n",
            "8/8 [==============================] - 187s 23s/step - loss: 0.6862 - accuracy: 0.5579 - val_loss: 0.6496 - val_accuracy: 0.6250\n",
            "\n",
            "Epoch 00003: val_accuracy improved from 0.60352 to 0.62500, saving model to best_model.h5\n",
            "Epoch 4/30\n",
            "8/8 [==============================] - 192s 24s/step - loss: 0.6660 - accuracy: 0.6055 - val_loss: 0.6142 - val_accuracy: 0.6719\n",
            "\n",
            "Epoch 00004: val_accuracy improved from 0.62500 to 0.67188, saving model to best_model.h5\n",
            "Epoch 5/30\n",
            "8/8 [==============================] - 179s 22s/step - loss: 0.6542 - accuracy: 0.6289 - val_loss: 0.5945 - val_accuracy: 0.7031\n",
            "\n",
            "Epoch 00005: val_accuracy improved from 0.67188 to 0.70312, saving model to best_model.h5\n",
            "Epoch 6/30\n",
            "8/8 [==============================] - 132s 16s/step - loss: 0.6297 - accuracy: 0.6266 - val_loss: 0.5437 - val_accuracy: 0.7070\n",
            "\n",
            "Epoch 00006: val_accuracy improved from 0.70312 to 0.70703, saving model to best_model.h5\n",
            "Epoch 7/30\n",
            "8/8 [==============================] - 95s 12s/step - loss: 0.6276 - accuracy: 0.6641 - val_loss: 0.6065 - val_accuracy: 0.6172\n",
            "\n",
            "Epoch 00007: val_accuracy did not improve from 0.70703\n",
            "Epoch 8/30\n",
            "8/8 [==============================] - 62s 8s/step - loss: 0.6183 - accuracy: 0.6680 - val_loss: 0.5326 - val_accuracy: 0.7793\n",
            "\n",
            "Epoch 00008: val_accuracy improved from 0.70703 to 0.77930, saving model to best_model.h5\n",
            "Epoch 9/30\n",
            "8/8 [==============================] - 73s 9s/step - loss: 0.5276 - accuracy: 0.7500 - val_loss: 0.5489 - val_accuracy: 0.7129\n",
            "\n",
            "Epoch 00009: val_accuracy did not improve from 0.77930\n",
            "Epoch 10/30\n",
            "8/8 [==============================] - 70s 9s/step - loss: 0.6525 - accuracy: 0.6562 - val_loss: 0.6628 - val_accuracy: 0.5449\n",
            "\n",
            "Epoch 00010: val_accuracy did not improve from 0.77930\n",
            "Epoch 11/30\n",
            "8/8 [==============================] - 78s 10s/step - loss: 0.5746 - accuracy: 0.6992 - val_loss: 0.5043 - val_accuracy: 0.7871\n",
            "\n",
            "Epoch 00011: val_accuracy improved from 0.77930 to 0.78711, saving model to best_model.h5\n",
            "Epoch 12/30\n",
            "8/8 [==============================] - 76s 10s/step - loss: 0.5587 - accuracy: 0.7500 - val_loss: 0.4562 - val_accuracy: 0.7969\n",
            "\n",
            "Epoch 00012: val_accuracy improved from 0.78711 to 0.79688, saving model to best_model.h5\n",
            "Epoch 13/30\n",
            "8/8 [==============================] - 76s 10s/step - loss: 0.5149 - accuracy: 0.7468 - val_loss: 0.7714 - val_accuracy: 0.6094\n",
            "\n",
            "Epoch 00013: val_accuracy did not improve from 0.79688\n",
            "Epoch 14/30\n",
            "8/8 [==============================] - 77s 10s/step - loss: 0.5638 - accuracy: 0.6953 - val_loss: 0.4565 - val_accuracy: 0.7930\n",
            "\n",
            "Epoch 00014: val_accuracy did not improve from 0.79688\n",
            "Epoch 15/30\n",
            "8/8 [==============================] - 80s 10s/step - loss: 0.5542 - accuracy: 0.7461 - val_loss: 0.4959 - val_accuracy: 0.7617\n",
            "\n",
            "Epoch 00015: val_accuracy did not improve from 0.79688\n",
            "Epoch 16/30\n",
            "8/8 [==============================] - 70s 9s/step - loss: 0.5149 - accuracy: 0.7812 - val_loss: 0.4372 - val_accuracy: 0.7930\n",
            "\n",
            "Epoch 00016: val_accuracy did not improve from 0.79688\n",
            "Epoch 17/30\n",
            "8/8 [==============================] - 75s 10s/step - loss: 0.5052 - accuracy: 0.7656 - val_loss: 0.4663 - val_accuracy: 0.7871\n",
            "\n",
            "Epoch 00017: val_accuracy did not improve from 0.79688\n",
            "Epoch 00017: early stopping\n"
          ]
        }
      ],
      "metadata": {
        "id": "BO0XKcIe63SR",
        "colab": {
          "base_uri": "https://localhost:8080/"
        },
        "outputId": "2e2a65df-44d4-46b2-eebc-67f95b3e5019"
      }
    },
    {
      "cell_type": "code",
      "execution_count": 23,
      "source": [
        "# Loading the best fit model \r\n",
        "from keras.models import load_model\r\n",
        "\r\n",
        "model = load_model(\"C:/Users/shukl/OneDrive/Python/Projects/best_model.h5\")"
      ],
      "outputs": [],
      "metadata": {
        "id": "MvToQlerJSJV"
      }
    },
    {
      "cell_type": "markdown",
      "source": [
        "# Model Accuracy"
      ],
      "metadata": {
        "id": "7wFfgVLFZ5VW"
      }
    },
    {
      "cell_type": "code",
      "execution_count": 24,
      "source": [
        "# checking out the accuracy of our model \r\n",
        "\r\n",
        "acc = model.evaluate_generator(generator= test_data,steps=len(test_data),verbose=1)[1] \r\n",
        "\r\n",
        "print(f\"The accuracy of your model is = {acc*100} %\")"
      ],
      "outputs": [
        {
          "output_type": "stream",
          "name": "stdout",
          "text": [
            "22/22 [==============================] - 33s 1s/step - loss: 0.4734 - accuracy: 0.7894\n",
            "The accuracy of your model is = 78.93961668014526 %\n"
          ]
        }
      ],
      "metadata": {
        "id": "4aObwwCP7ZjK",
        "colab": {
          "base_uri": "https://localhost:8080/"
        },
        "outputId": "949551c0-44de-44c5-c18d-4d73d52331aa"
      }
    },
    {
      "cell_type": "code",
      "execution_count": 25,
      "source": [
        "h =  hist.history\r\n",
        "h.keys()"
      ],
      "outputs": [
        {
          "output_type": "execute_result",
          "data": {
            "text/plain": [
              "dict_keys(['loss', 'accuracy', 'val_loss', 'val_accuracy'])"
            ]
          },
          "metadata": {},
          "execution_count": 25
        }
      ],
      "metadata": {
        "id": "9Izk8XB_QFwz",
        "colab": {
          "base_uri": "https://localhost:8080/"
        },
        "outputId": "a75a6b26-f7d7-4ee3-d635-14dea2afbdaa"
      }
    },
    {
      "cell_type": "code",
      "execution_count": 26,
      "source": [
        "plt.plot(h['accuracy'], label = \"Training\")\r\n",
        "plt.plot(h['val_accuracy'] , c = \"red\",label=\"Validation\")\r\n",
        "plt.title(\"Training Accuracy vs Validation Accuracy\")\r\n",
        "plt.legend()\r\n",
        "plt.show()"
      ],
      "outputs": [
        {
          "output_type": "display_data",
          "data": {
            "image/png": "[encoded data removed]",
            "text/plain": [
              "<Figure size 432x288 with 1 Axes>"
            ]
          },
          "metadata": {
            "needs_background": "light"
          }
        }
      ],
      "metadata": {
        "id": "E0fTfDVYQNci",
        "colab": {
          "base_uri": "https://localhost:8080/",
          "height": 281
        },
        "outputId": "85e0e7c2-7d96-4ef2-f2e5-4d56376bc5d7"
      }
    },
    {
      "cell_type": "code",
      "execution_count": 27,
      "source": [
        "plt.plot(h['loss'], label = \"Training\")\r\n",
        "plt.plot(h['val_loss'] , c = \"red\",label=\"Validation\")\r\n",
        "plt.title(\"Training Loss vs Validation Loss\")\r\n",
        "plt.show()"
      ],
      "outputs": [
        {
          "output_type": "display_data",
          "data": {
            "image/png": "[encoded data removed]",
            "text/plain": [
              "<Figure size 432x288 with 1 Axes>"
            ]
          },
          "metadata": {
            "needs_background": "light"
          }
        }
      ],
      "metadata": {
        "id": "ERL-3yvUQRBL",
        "colab": {
          "base_uri": "https://localhost:8080/",
          "height": 281
        },
        "outputId": "250419af-a266-4d5f-ff0b-1c1cc6385566"
      }
    },
    {
      "cell_type": "code",
      "execution_count": 32,
      "source": [
        "# path for the image to see if it predics correct class\r\n",
        "path = \"C:/Users/shukl/OneDrive/Python/Projects/Brain Tumor Data Set/Healthey/Not Cancer  (1210).jpg\"\r\n",
        "img = image.load_img(path, target_size=(224,224),  )\r\n",
        "\r\n",
        "i = image.img_to_array(img)/255.0\r\n",
        "input_arr = np.array([i])\r\n",
        "input_arr.shape\r\n",
        "\r\n",
        "pred = int((model.predict(input_arr)[0][0] > 0.5))\r\n",
        "#print(pred,model.predict(input_arr)[0][0])\r\n",
        "#print(pred)\r\n",
        "if pred == 0:\r\n",
        "  print(\"The MRI image is of BRAIN TUMOR\")\r\n",
        "else:\r\n",
        "  print(\"The MRI image is of Healthy brain\")"
      ],
      "outputs": [
        {
          "output_type": "stream",
          "name": "stdout",
          "text": [
            "The MRI image is of Healthy brain\n"
          ]
        }
      ],
      "metadata": {
        "id": "a03IzW6m948Z",
        "colab": {
          "base_uri": "https://localhost:8080/"
        },
        "outputId": "f0766fab-9c00-4605-81e1-104fb7412491"
      }
    },
    {
      "cell_type": "code",
      "execution_count": null,
      "source": [],
      "outputs": [],
      "metadata": {
        "id": "pGYs_Ua3bbwb"
      }
    }
  ]
}